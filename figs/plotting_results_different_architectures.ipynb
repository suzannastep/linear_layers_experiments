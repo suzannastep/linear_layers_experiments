{
 "cells": [
  {
   "cell_type": "markdown",
   "id": "4bF8A36cglU4",
   "metadata": {
    "id": "4bF8A36cglU4"
   },
   "source": [
    "# imports"
   ]
  },
  {
   "cell_type": "code",
   "execution_count": 1,
   "id": "2cca449a",
   "metadata": {
    "executionInfo": {
     "elapsed": 1038,
     "status": "ok",
     "timestamp": 1701128286405,
     "user": {
      "displayName": "Suzanna Parkinson",
      "userId": "17585917766009932288"
     },
     "user_tz": 360
    },
    "id": "2cca449a"
   },
   "outputs": [],
   "source": [
    "import numpy as np\n",
    "from matplotlib import pyplot as plt\n",
    "import pandas as pd\n",
    "from matplotlib.lines import Line2D"
   ]
  },
  {
   "cell_type": "markdown",
   "id": "21725609",
   "metadata": {
    "id": "21725609"
   },
   "source": [
    "# load data and create pandas table"
   ]
  },
  {
   "cell_type": "code",
   "execution_count": null,
   "id": "ea52bee8",
   "metadata": {},
   "outputs": [],
   "source": [
    "ls *_results"
   ]
  },
  {
   "cell_type": "code",
   "execution_count": null,
   "id": "8hubUl6NlIh3",
   "metadata": {
    "colab": {
     "base_uri": "https://localhost:8080/",
     "height": 1000
    },
    "executionInfo": {
     "elapsed": 30,
     "status": "ok",
     "timestamp": 1701128292779,
     "user": {
      "displayName": "Suzanna Parkinson",
      "userId": "17585917766009932288"
     },
     "user_tz": 360
    },
    "id": "8hubUl6NlIh3",
    "outputId": "008a8a90-61cb-40fb-e1fe-d5a2df77ddb8"
   },
   "outputs": [],
   "source": [
    "res_standard = pd.read_pickle(\"new_targets_results\")\n",
    "res_deeprelu = pd.read_pickle(\"deeprelu_results\")\n",
    "# res_middlelinear = pd.read_pickle(\"middlelinear_SIM_results\")\n",
    "print(res_deeprelu.shape,res_standard.shape)#,res_middlelinear.shape)"
   ]
  },
  {
   "cell_type": "code",
   "execution_count": null,
   "id": "6e155f03",
   "metadata": {},
   "outputs": [],
   "source": [
    "res_standard[(res_standard.r==1) * (res_standard.sigma<=0.25)].shape"
   ]
  },
  {
   "cell_type": "code",
   "execution_count": 5,
   "id": "2c8ef7d5",
   "metadata": {},
   "outputs": [],
   "source": [
    "res = pd.concat([\n",
    "    res_standard[(res_standard.r==1) * (res_standard.sigma<=0.25)], #filter to just the r and sigma vals we ran everything on\n",
    "    res_deeprelu[res_deeprelu.L>2], #only look at the actually deep models with these architectures\n",
    "    # res_middlelinear[res_middlelinear.L>2]\n",
    "])\n",
    "res.loc[res.L==2,\"Activations\"] = \"Shallow\""
   ]
  },
  {
   "cell_type": "code",
   "execution_count": null,
   "id": "aac1e475",
   "metadata": {},
   "outputs": [],
   "source": [
    "res.Activations.unique()"
   ]
  },
  {
   "cell_type": "code",
   "execution_count": 7,
   "id": "0dead576",
   "metadata": {},
   "outputs": [],
   "source": [
    "res.loc[res.Activations == \"standard\",\"Activations\"] = \"Linear Layers then ReLU\"\n",
    "res.loc[res.Activations == \"relus\",\"Activations\"] = \"Deep ReLU\"\n",
    "# res.loc[res.Activations == \"middlelinear\",\"Activations\"] = \"ReLU then Linear Layers then ReLU\""
   ]
  },
  {
   "cell_type": "code",
   "execution_count": null,
   "id": "614f46f3",
   "metadata": {},
   "outputs": [],
   "source": [
    "res.Activations.unique()"
   ]
  },
  {
   "cell_type": "code",
   "execution_count": null,
   "id": "3b080a07",
   "metadata": {},
   "outputs": [],
   "source": [
    "res.shape"
   ]
  },
  {
   "cell_type": "markdown",
   "id": "6ce18240",
   "metadata": {},
   "source": [
    "# Check if Final Training Loss is Okay"
   ]
  },
  {
   "cell_type": "code",
   "execution_count": 10,
   "id": "5905df79",
   "metadata": {},
   "outputs": [],
   "source": [
    "trainMSE_threshold=1e-2\n",
    "assert sum(res[\"Final Train MSE\"] >= trainMSE_threshold + res[\"sigma\"]) == 0"
   ]
  },
  {
   "cell_type": "code",
   "execution_count": null,
   "id": "9d49a3cc",
   "metadata": {},
   "outputs": [],
   "source": [
    "res[res[\"Final Train MSE\"] >= trainMSE_threshold + res[\"sigma\"]][\"Final Train MSE\"]"
   ]
  },
  {
   "cell_type": "code",
   "execution_count": 12,
   "id": "ee610644",
   "metadata": {},
   "outputs": [],
   "source": [
    "res = res[res[\"Final Train MSE\"] < trainMSE_threshold + res[\"sigma\"]] #filtering out bad fits"
   ]
  },
  {
   "cell_type": "markdown",
   "id": "297500cd",
   "metadata": {},
   "source": [
    "# Tuning Hyperparameters"
   ]
  },
  {
   "cell_type": "markdown",
   "id": "QfTgwsYWt0JN",
   "metadata": {
    "id": "QfTgwsYWt0JN"
   },
   "source": [
    "##  determine the lambda parameter that gets the best Validation MSE for each (r,n,L)"
   ]
  },
  {
   "cell_type": "code",
   "execution_count": null,
   "id": "RJvhVj2QsOzz",
   "metadata": {
    "colab": {
     "base_uri": "https://localhost:8080/",
     "height": 645
    },
    "executionInfo": {
     "elapsed": 17,
     "status": "ok",
     "timestamp": 1701128292779,
     "user": {
      "displayName": "Suzanna Parkinson",
      "userId": "17585917766009932288"
     },
     "user_tz": 360
    },
    "id": "RJvhVj2QsOzz",
    "outputId": "f5ab0e61-f93e-4d47-c809-af5ef4d06e06",
    "scrolled": false
   },
   "outputs": [],
   "source": [
    "validationmse_vs_lambda = res.pivot_table(values=\"Validation MSE\",index = (\"r\",\"sigma\",\"n\",\"L\",\"Activations\"),columns=[\"lambda\"])\n",
    "validationmse_vs_lambda"
   ]
  },
  {
   "cell_type": "code",
   "execution_count": null,
   "id": "72ff1bd8",
   "metadata": {},
   "outputs": [],
   "source": [
    "bestlambda = validationmse_vs_lambda.idxmin(axis=1)\n",
    "with pd.option_context('display.max_rows', None, 'display.max_columns', None):  # more options can be specified also\n",
    "    display(bestlambda)"
   ]
  },
  {
   "cell_type": "code",
   "execution_count": null,
   "id": "K4ItJEBcjtcZ",
   "metadata": {
    "colab": {
     "base_uri": "https://localhost:8080/",
     "height": 960
    },
    "executionInfo": {
     "elapsed": 9,
     "status": "ok",
     "timestamp": 1701128292779,
     "user": {
      "displayName": "Suzanna Parkinson",
      "userId": "17585917766009932288"
     },
     "user_tz": 360
    },
    "id": "K4ItJEBcjtcZ",
    "outputId": "a6ab9ade-ea9d-4b83-b14b-29dd2811b57d"
   },
   "outputs": [],
   "source": [
    "mask = [row[\"lambda\"] == bestlambda[row[\"r\"]][row[\"sigma\"]][row[\"n\"]][row[\"L\"]][row[\"Activations\"]] for rowindex,row in res.iterrows()]\n",
    "res = res[mask]\n",
    "res"
   ]
  },
  {
   "cell_type": "markdown",
   "id": "6fabcf44",
   "metadata": {
    "id": "QfTgwsYWt0JN"
   },
   "source": [
    "##  determine the $L\\ge3$ parameter that gets the best validation MSE for each (r,n)"
   ]
  },
  {
   "cell_type": "code",
   "execution_count": null,
   "id": "f0fc2546",
   "metadata": {
    "colab": {
     "base_uri": "https://localhost:8080/",
     "height": 645
    },
    "executionInfo": {
     "elapsed": 17,
     "status": "ok",
     "timestamp": 1701128292779,
     "user": {
      "displayName": "Suzanna Parkinson",
      "userId": "17585917766009932288"
     },
     "user_tz": 360
    },
    "id": "RJvhVj2QsOzz",
    "outputId": "f5ab0e61-f93e-4d47-c809-af5ef4d06e06",
    "scrolled": false
   },
   "outputs": [],
   "source": [
    "validationmse_vs_L = res.pivot_table(values=\"Validation MSE\",index = (\"r\",\"sigma\",\"n\",\"Activations\"),columns=[\"L\"])\n",
    "validationmse_vs_L = validationmse_vs_L.iloc[:,1:]\n",
    "validationmse_vs_L"
   ]
  },
  {
   "cell_type": "code",
   "execution_count": null,
   "id": "a8188db4",
   "metadata": {},
   "outputs": [],
   "source": [
    "bestL = validationmse_vs_L.idxmin(axis=1)\n",
    "bestL"
   ]
  },
  {
   "cell_type": "code",
   "execution_count": 18,
   "id": "66eb5ccf",
   "metadata": {
    "colab": {
     "base_uri": "https://localhost:8080/",
     "height": 960
    },
    "executionInfo": {
     "elapsed": 9,
     "status": "ok",
     "timestamp": 1701128292779,
     "user": {
      "displayName": "Suzanna Parkinson",
      "userId": "17585917766009932288"
     },
     "user_tz": 360
    },
    "id": "K4ItJEBcjtcZ",
    "outputId": "a6ab9ade-ea9d-4b83-b14b-29dd2811b57d"
   },
   "outputs": [],
   "source": [
    "mask = [row[\"L\"] == bestL[row[\"r\"]][row[\"sigma\"]][row[\"n\"]][row[\"Activations\"]] for rowindex,row in res.iterrows()]\n",
    "bestLres = res[mask]"
   ]
  },
  {
   "cell_type": "code",
   "execution_count": null,
   "id": "66470861",
   "metadata": {},
   "outputs": [],
   "source": [
    "bestLres.sort_values(by=['r','n',\"sigma\",\"Activations\"])"
   ]
  },
  {
   "cell_type": "markdown",
   "id": "898f1d0c",
   "metadata": {},
   "source": [
    "## What are the chosen lambda and L for each model?"
   ]
  },
  {
   "cell_type": "code",
   "execution_count": 20,
   "id": "c5be5887",
   "metadata": {},
   "outputs": [],
   "source": [
    "bestres = pd.concat((res[res[\"L\"] == 2],bestLres))"
   ]
  },
  {
   "cell_type": "code",
   "execution_count": null,
   "id": "2eb6b3d0",
   "metadata": {},
   "outputs": [],
   "source": [
    "print(bestres.pivot_table(index=[\"r\",\"sigma\",\"n\",\"Activations\",\"L\"],values=[\"lambda\"]).shape)\n",
    "bestres.pivot_table(index=[\"r\",\"sigma\",\"n\",\"Activations\",\"L\"],values=[\"lambda\"])"
   ]
  },
  {
   "cell_type": "markdown",
   "id": "8364946f",
   "metadata": {},
   "source": [
    "# Plotting"
   ]
  },
  {
   "cell_type": "code",
   "execution_count": 22,
   "id": "62d86878",
   "metadata": {},
   "outputs": [],
   "source": [
    "fontname = \"Times New Roman\"\n",
    "import matplotlib\n",
    "matplotlib.rcParams['mathtext.fontset'] = 'stix'\n",
    "matplotlib.rcParams['font.family'] = 'STIXGeneral'"
   ]
  },
  {
   "cell_type": "markdown",
   "id": "94cacc18",
   "metadata": {},
   "source": [
    "## Plots of L vs Validation error"
   ]
  },
  {
   "cell_type": "code",
   "execution_count": null,
   "id": "gvOUGojKGWvw",
   "metadata": {
    "colab": {
     "base_uri": "https://localhost:8080/",
     "height": 476
    },
    "executionInfo": {
     "elapsed": 1932,
     "status": "ok",
     "timestamp": 1701129174191,
     "user": {
      "displayName": "Suzanna Parkinson",
      "userId": "17585917766009932288"
     },
     "user_tz": 360
    },
    "id": "gvOUGojKGWvw",
    "outputId": "378581a5-d4b5-4eed-8e60-29b5134124ff",
    "scrolled": true
   },
   "outputs": [],
   "source": [
    "for std in res.sigma.unique():\n",
    "    f, ax = plt.subplots(ncols=len(res.Activations.unique()),nrows=1, sharex=True, sharey=True, figsize=(10,4.8))\n",
    "    for col,activation in enumerate(res.Activations.unique()):\n",
    "        for n in res.n.unique():\n",
    "                res_rnstd = res[(res.n == n) * (res[\"sigma\"] == std) * (res.Activations == activation)]\n",
    "                ax[col].scatter(res_rnstd.L,res_rnstd[[\"Validation MSE\"]])\n",
    "                ax[col].semilogy(res_rnstd.L,res_rnstd[[\"Validation MSE\"]],label=rf\"$n={n}$\")\n",
    "                for _,model in res_rnstd.iterrows():\n",
    "                    text = rf'$\\lambda = {model[\"lambda\"]:.0e}$' + f'\\nfit {model[\"Final Train MSE\"]:.1e}\\nwd{model[\"Final Weight Decay\"]:.1e}'\n",
    "        ax[col].set_xlabel(\"$L$ number of layers\")\n",
    "        ax[col].set_title(activation)\n",
    "        if std > 0:\n",
    "            ax[col].axhline(y=std**2, color='k', linestyle=':',label=\"$\\sigma^2$\")\n",
    "        ax[0].set_ylabel(\"Validation MSE\")\n",
    "        f.suptitle(rf\"Validation MSE for best $\\lambda$ values, $\\sigma$ = {std}\")\n",
    "    ax[0].legend()\n",
    "    f.tight_layout()\n",
    "    if int(std) == std:\n",
    "        std = int(std)\n",
    "    f.savefig(\"architecture_comparison\"+f\"_labelnoise{std}_ValidationMSE.pdf\",dpi=300)\n",
    "    plt.show()"
   ]
  },
  {
   "cell_type": "markdown",
   "id": "2bad12a9",
   "metadata": {},
   "source": [
    "## Performance metrics with/without linear layers"
   ]
  },
  {
   "cell_type": "code",
   "execution_count": null,
   "id": "a70ab30c",
   "metadata": {},
   "outputs": [],
   "source": [
    "res.r.unique()"
   ]
  },
  {
   "cell_type": "code",
   "execution_count": null,
   "id": "cefb2cb0",
   "metadata": {},
   "outputs": [],
   "source": [
    "res.Activations.unique()"
   ]
  },
  {
   "cell_type": "code",
   "execution_count": 26,
   "id": "f53158aa",
   "metadata": {
    "scrolled": false
   },
   "outputs": [],
   "source": [
    "columnwidth = 6.17406722223\n",
    "markersize = 4\n",
    "colors = {  \n",
    "    0   :\"C0\",\n",
    "    0.25:\"C1\",\n",
    "}\n",
    "linestyles = {\n",
    "    \"Shallow\":\"-\",\n",
    "    \"Linear Layers then ReLU\":\"--\",\n",
    "    'Deep ReLU':\"-.\",\n",
    "    # 'ReLU then Linear Layers then ReLU':(0, (3, 1, 1, 1, 1, 1))\n",
    "}\n",
    "markers = {\n",
    "    \"Shallow\":\".\",\n",
    "    \"Linear Layers then ReLU\":\"x\",\n",
    "    'Deep ReLU':\"^\",\n",
    "    # 'ReLU then Linear Layers then ReLU':\"v\"\n",
    "}"
   ]
  },
  {
   "cell_type": "markdown",
   "id": "8d8d0a3f",
   "metadata": {},
   "source": [
    "### generalization"
   ]
  },
  {
   "cell_type": "code",
   "execution_count": null,
   "id": "8df52e08",
   "metadata": {},
   "outputs": [],
   "source": [
    "ax.shape"
   ]
  },
  {
   "cell_type": "code",
   "execution_count": null,
   "id": "ff05f2d3",
   "metadata": {},
   "outputs": [],
   "source": [
    "#generalization and OOD errors\n",
    "handles = [\n",
    "    Line2D([0], [0], color=color, ls='-', label=rf\"$\\sigma =${sigma}\") for sigma,color in colors.items()\n",
    "]\n",
    "handles += [\n",
    "    Line2D([0], [0], color='k', ls=linestyles[activation], label=activation, marker = markers[activation], markersize=markersize) for activation in res.Activations.unique()\n",
    "] \n",
    "handles += [\n",
    "        Line2D([0], [0], color='k', ls=':', label='$\\sigma^2$, irreducible error'),\n",
    "]\n",
    "\n",
    "f, ax = plt.subplots(ncols=2,nrows=2, sharex=True, sharey=\"row\", figsize=(columnwidth,4.25))\n",
    "for col,metric in enumerate(['In-Distribution','Out-of-Distribution']):\n",
    "    standard_errors = metric[:-3] + 'SEM'\n",
    "    #just the data without label noise in the first row\n",
    "    for row,sigma in enumerate([0,0.25]):\n",
    "        for activation in res.Activations.unique():\n",
    "            curr = bestres[(bestres.Activations == activation) * (bestres.sigma == sigma)]\n",
    "            print(curr.shape)\n",
    "            points = curr[[metric + \" MSE\"]].values[:,0]\n",
    "            ax[row,col].plot(curr.n,points,\n",
    "                                linestyle=linestyles[activation],\n",
    "                                marker=markers[activation],\n",
    "                                markersize=markersize,\n",
    "                                color=colors[sigma],\n",
    "                                alpha=0.8)\n",
    "            #horizontal dashed line for minimal possible MSE (ie sigma^2) in plots with label noise\n",
    "            ax[-1,col].axhline(y=sigma**2, color=colors[sigma], linestyle=':',alpha=0.3)\n",
    "        #plot set up\n",
    "        ax[row,col].set_xscale(\"log\",base=2)\n",
    "        ax[row,col].set_xticks([2**k for k in range(6,12)])\n",
    "        ax[row,col].set_yscale(\"log\",base=10)\n",
    "        ax[row,0].set_ylabel(f\"MSE\",wrap=True)\n",
    "        ax[-1,col].set_xlabel(\"Number of training samples ($n$)\")\n",
    "        ax[row,col].minorticks_off()\n",
    "        ax[0,col].set_title(metric)\n",
    "f.legend(handles=handles, ncol=2, loc = 'upper center', bbox_to_anchor=(0.5,0.03))\n",
    "plt.suptitle(f\"Generalization across Architectures\")\n",
    "plt.tight_layout(pad=0.5,h_pad=1.08, w_pad=1.08)\n",
    "plt.savefig(\"architecture_comparison\"+f\"Generalization.pdf\",dpi=300,bbox_inches='tight')\n",
    "plt.show()"
   ]
  },
  {
   "cell_type": "markdown",
   "id": "3c9a101f",
   "metadata": {},
   "source": [
    "### singular values"
   ]
  },
  {
   "cell_type": "code",
   "execution_count": null,
   "id": "8e301bd4",
   "metadata": {},
   "outputs": [],
   "source": [
    "handles = [\n",
    "    Line2D([0], [0], color=color, ls='-', label=rf\"$\\sigma =${sigma}\") for sigma,color in colors.items()\n",
    "]\n",
    "handles += [\n",
    "    Line2D([0], [0], color='k', ls=linestyles[activation], label=activation, marker = markers[activation], markersize=markersize) for activation in res.Activations.unique()\n",
    "] \n",
    "handles += [Line2D([0], [0], color='k', ls=':', label=r\"effective rank tolerance, $\\varepsilon = 10^{-3}$\")]\n",
    "\n",
    "ranktol = 1e-3\n",
    "f, ax = plt.subplots(nrows=2, ncols=3, sharex=True, sharey=True, figsize=(columnwidth,4.25))#,5.75))\n",
    "r = 1\n",
    "for activation in res.Activations.unique():\n",
    "    for nnum,n in enumerate(res.n.unique()):\n",
    "        row = nnum // 3\n",
    "        col = nnum % 3\n",
    "        for sigma in res.sigma.unique():\n",
    "            for activation in res.Activations.unique():\n",
    "                print(activation,sigma,n)\n",
    "                curr = bestres[(bestres.Activations == activation) * (bestres.sigma == sigma) * (bestres.n == n)]\n",
    "                ax[row,col].semilogy(curr[\"Gradient Singular Values\"].values[0]/np.sqrt(2048),\n",
    "                    linestyle=linestyles[activation],\n",
    "                    linewidth=1,\n",
    "                    alpha=0.3,\n",
    "                    marker=markers[activation],\n",
    "                    markersize=markersize,\n",
    "                    color=colors[sigma])\n",
    "        ax[row,col].axhline(y=ranktol, color='k', linestyle=':',alpha=1, label = r\"effective rank tolerance, $\\varepsilon = 10^{-3}$\")\n",
    "        ax[row,col].set_xticks(list(range(4,20,5)),list(range(5,21,5)))\n",
    "        ax[0,0].set_yticks([10**p for p in range(-9,3,2)])\n",
    "        ax[row,col].set_title(rf\"$r={r},n={n}$\")\n",
    "        ax[-1,col].set_xlabel(rf\"Index, $k$\")\n",
    "        ax[row,col].set_ylim(10**(-9),10**(2.5))\n",
    "f.legend(handles=handles, ncol=2, loc = 'upper center', bbox_to_anchor=(0.5,0.01))\n",
    "plt.suptitle(r\"Singular Values of Trained Networks, $\\sigma_k(\\hat{f})$, across Architectures\")\n",
    "plt.tight_layout(pad=0.5,h_pad=1.08, w_pad=1.08)\n",
    "plt.savefig(\"architecture_comparison\"+f\"_labelnoise_sv.pdf\",dpi=300, bbox_inches='tight')\n",
    "plt.show()\n",
    "handles.pop()"
   ]
  },
  {
   "cell_type": "markdown",
   "id": "cbd13005",
   "metadata": {},
   "source": [
    "### active subspaces"
   ]
  },
  {
   "cell_type": "code",
   "execution_count": null,
   "id": "3112427d",
   "metadata": {},
   "outputs": [],
   "source": [
    "handles = [\n",
    "    Line2D([0], [0], color=color, ls='-', label=rf\"$\\sigma =${sigma}\") for sigma,color in colors.items()\n",
    "]\n",
    "handles += [\n",
    "    Line2D([0], [0], color='k', ls=linestyles[activation], label=activation, marker = markers[activation], markersize=markersize) for activation in res.Activations.unique()\n",
    "] \n",
    "\n",
    "#active subspace error plot\n",
    "f, ax = plt.subplots(ncols=2,nrows=1, sharex=True, sharey=False, figsize=(columnwidth,2.75))\n",
    "for col,metric in enumerate([r\"Effective Index Rank, $\\varepsilon = 10^{-3}$\",\"Principal Angle (Degrees)\"]):\n",
    "    for sigma in res.sigma.unique():\n",
    "        print(sigma)\n",
    "        for activation in res.Activations.unique():\n",
    "            curr = bestres[(bestres.Activations == activation) * (bestres.sigma == sigma)]\n",
    "            if metric == \"Principal Angle (Degrees)\":\n",
    "                points = curr[[metric]].values[:,0]\n",
    "            elif metric == r\"Effective Index Rank, $\\varepsilon = 10^{-3}$\":\n",
    "                points = (np.array(curr[\"Gradient Singular Values\"].tolist())/np.sqrt(2048) > ranktol).sum(axis=1)\n",
    "                ax[col].set_yticks(np.arange(0,21,5))\n",
    "                ax[col].set_ylim(0,20.5)\n",
    "            ax[col].plot(curr.n,points,\n",
    "                                linestyle=linestyles[activation],\n",
    "                                color=colors[sigma],\n",
    "                                marker=markers[activation],\n",
    "                                markersize=markersize,\n",
    "                                alpha=0.8)\n",
    "    #plot set up\n",
    "    ax[col].set_title(metric[:15] + '\\n' + metric[16:])\n",
    "    ax[0].set_yticks(range(21), minor=True)\n",
    "    ax[col].set_xscale(\"log\",base=2)\n",
    "    ax[col].set_xticks([2**k for k in range(6,12)])\n",
    "    ax[1].set_xlabel(\"Number of training samples ($n$)\")\n",
    "    ax[col].minorticks_on()\n",
    "f.legend(handles=handles, ncol=2, loc = 'upper center', bbox_to_anchor=(0.5,0.03))\n",
    "plt.suptitle(f\"Active Subspaces across Architectures\")\n",
    "plt.tight_layout(pad=0.5,h_pad=0.5, w_pad=0.5)\n",
    "plt.savefig(\"architecture_comparison\"+f\"Active Subspaces.pdf\",dpi=300,bbox_inches='tight')\n",
    "plt.show()"
   ]
  },
  {
   "cell_type": "markdown",
   "id": "9a599384",
   "metadata": {},
   "source": [
    "## training"
   ]
  },
  {
   "cell_type": "code",
   "execution_count": null,
   "id": "5452d635",
   "metadata": {},
   "outputs": [],
   "source": [
    "handles = [\n",
    "    Line2D([0], [0], color=color, ls='-', label=rf\"$\\sigma =${sigma}\") for sigma,color in colors.items()\n",
    "]\n",
    "handles += [\n",
    "    Line2D([0], [0], color='k', ls=linestyles[activation], label=activation, marker = markers[activation], markersize=markersize) for activation in res.Activations.unique()\n",
    "] \n",
    "\n",
    "#training time plot\n",
    "for metric in [\"Weight Decay\",\"Train MSE\"]:\n",
    "    f, ax = plt.subplots(ncols=3,nrows=len(res.n.unique())//3, sharex=True, sharey=True, figsize=(columnwidth,4))\n",
    "    for nnum,n in enumerate(res.n.unique()):\n",
    "        row = nnum//3\n",
    "        col = nnum % 3\n",
    "        for sigma in res.sigma.unique():\n",
    "            for activation in res.Activations.unique():\n",
    "                curr = bestres[(bestres.Activations == activation) * (bestres.sigma == sigma) * (bestres.n == n)]\n",
    "                assert curr[metric].shape[0] == 1 # make sure there's only one row\n",
    "                values_to_plot = curr[metric].iloc[0]\n",
    "                epochs = len(values_to_plot)\n",
    "                ax[row,col].plot(np.arange(epochs),values_to_plot,\n",
    "                                    linestyle=linestyles[activation],\n",
    "                                    color=colors[sigma],\n",
    "                                    linewidth = 1,\n",
    "                                    alpha=0.8)\n",
    "                ax[row,col].scatter(np.arange(epochs)[::15_000],values_to_plot[::15_000],\n",
    "                                    linestyle=linestyles[activation],\n",
    "                                    color=colors[sigma],\n",
    "                                    marker=markers[activation],\n",
    "                                    linewidth = 1,\n",
    "                                    alpha=0.8)\n",
    "            #plot set up\n",
    "            ax[row,col].set_title(f\"n = {n}\")\n",
    "            ax[row,col].set_yscale(\"log\",base=10)\n",
    "            ax[row,col].minorticks_on()\n",
    "            ax[-1,col].set_xlabel(\"Epochs\")\n",
    "            ticks = np.arange(15_000,epochs,step=15_000)\n",
    "            ax[-1,col].set_xticks(ticks=ticks, labels=[str(t)[:-3]+'k' for t in ticks])\n",
    "    f.legend(handles=handles, ncol=2, loc = 'upper center', bbox_to_anchor=(0.5,0.01))\n",
    "    plt.suptitle(metric+\" During Training across Architectures\")\n",
    "    plt.tight_layout(pad=0.5,h_pad=0.5, w_pad=0.5)\n",
    "    plt.savefig(\"architecture_comparison\"+metric+\"training.pdf\",dpi=300,bbox_inches='tight')\n",
    "    plt.show()"
   ]
  },
  {
   "cell_type": "code",
   "execution_count": null,
   "id": "2fbaffc3",
   "metadata": {},
   "outputs": [],
   "source": []
  }
 ],
 "metadata": {
  "accelerator": "GPU",
  "colab": {
   "provenance": [],
   "toc_visible": true
  },
  "kernelspec": {
   "display_name": "cluster_startup",
   "language": "python",
   "name": "python3"
  },
  "language_info": {
   "codemirror_mode": {
    "name": "ipython",
    "version": 3
   },
   "file_extension": ".py",
   "mimetype": "text/x-python",
   "name": "python",
   "nbconvert_exporter": "python",
   "pygments_lexer": "ipython3",
   "version": "3.10.12"
  },
  "toc": {
   "base_numbering": 1,
   "nav_menu": {},
   "number_sections": true,
   "sideBar": true,
   "skip_h1_title": false,
   "title_cell": "Table of Contents",
   "title_sidebar": "Contents",
   "toc_cell": true,
   "toc_position": {
    "height": "calc(100% - 180px)",
    "left": "10px",
    "top": "150px",
    "width": "165px"
   },
   "toc_section_display": true,
   "toc_window_display": true
  }
 },
 "nbformat": 4,
 "nbformat_minor": 5
}
